{
 "cells": [
  {
   "cell_type": "raw",
   "metadata": {},
   "source": [
    "<script>\n",
    "  function code_toggle() {\n",
    "    if (code_shown){\n",
    "      $('div.input').hide('500');\n",
    "      $('#toggleButton').val('Show Code')\n",
    "    } else {\n",
    "      $('div.input').show('500');\n",
    "      $('#toggleButton').val('Hide Code')\n",
    "    }\n",
    "    code_shown = !code_shown\n",
    "  }\n",
    "\n",
    "  $( document ).ready(function(){\n",
    "    code_shown=false;\n",
    "    $('div.input').hide()\n",
    "  });\n",
    "</script>\n",
    "<form action=\"javascript:code_toggle()\"><input type=\"submit\" id=\"toggleButton\" value=\"Show Code\"></form>"
   ]
  },
  {
   "cell_type": "markdown",
   "metadata": {},
   "source": [
    "# Digit Recognizer with Keras"
   ]
  },
  {
   "cell_type": "code",
   "execution_count": 1,
   "metadata": {},
   "outputs": [
    {
     "name": "stderr",
     "output_type": "stream",
     "text": [
      "Using TensorFlow backend.\n"
     ]
    }
   ],
   "source": [
    "import numpy as np\n",
    "from random import randint\n",
    "from sklearn.preprocessing import MinMaxScaler\n",
    "import pandas as pd  \n",
    "import os\n",
    "import gzip\n",
    "import io\n",
    "import keras\n",
    "from matplotlib import pyplot as plt\n",
    "from sklearn.metrics import confusion_matrix\n",
    "import itertools\n",
    "import seaborn as sns\n",
    "%matplotlib inline"
   ]
  },
  {
   "cell_type": "code",
   "execution_count": 2,
   "metadata": {
    "collapsed": true
   },
   "outputs": [],
   "source": [
    "train_labels = []\n",
    "train_samples = []\n",
    "\n",
    "path_train = os.getcwd() + '\\data\\\\train.csv'  \n",
    "train = pd.read_csv(path_train)\n",
    "\n",
    "path_test = os.getcwd() + '\\data\\\\test.csv' \n",
    "test_samples = pd.read_csv(path_test)\n"
   ]
  },
  {
   "cell_type": "code",
   "execution_count": 3,
   "metadata": {},
   "outputs": [
    {
     "data": {
      "text/plain": [
       "(42000, 785)"
      ]
     },
     "execution_count": 3,
     "metadata": {},
     "output_type": "execute_result"
    }
   ],
   "source": [
    "train.shape"
   ]
  },
  {
   "cell_type": "code",
   "execution_count": 4,
   "metadata": {},
   "outputs": [
    {
     "data": {
      "text/plain": [
       "(28000, 784)"
      ]
     },
     "execution_count": 4,
     "metadata": {},
     "output_type": "execute_result"
    }
   ],
   "source": [
    "test_samples.shape"
   ]
  },
  {
   "cell_type": "code",
   "execution_count": 5,
   "metadata": {
    "collapsed": true
   },
   "outputs": [],
   "source": [
    "np.random.shuffle(train.values)\n",
    "\n",
    "train_labels = train['label']\n",
    "train_samples = train.drop(\"label\", axis=1)\n",
    "\n",
    "train_labels_original = np.array(train_labels.values)\n",
    "train_samples_original = np.array(train_samples.values)\n",
    "test_samples_original = np.array(test_samples.values)"
   ]
  },
  {
   "cell_type": "code",
   "execution_count": null,
   "metadata": {
    "collapsed": true
   },
   "outputs": [],
   "source": [
    "train_samples = train_samples_original.reshape(train_samples_original.shape[0], 28, 28, 1)\n",
    "test_samples = test_samples_original.reshape(test_samples_original.shape[0], 28, 28, 1)\n",
    "train_labels = keras.utils.to_categorical(train_labels, 10)\n",
    "\n",
    "train_samples = train_samples.astype(\"float32\")\n",
    "test_samples = test_samples.astype(\"float32\")"
   ]
  },
  {
   "cell_type": "markdown",
   "metadata": {},
   "source": [
    "Our dataset consists of 60000 images of handwritten numbers, each consisting of 28x28 black or white pixels.<br>\n",
    "The images used are from the [MNIST handwritten digit database](http://yann.lecun.com/exdb/mnist/) and pulled from [kaggle](https://www.kaggle.com/c/digit-recognizer/data).<br>\n",
    "I should note that all images are written by around 250 unique individuals which suggests that our model will overfit to their handwriting to some extend.\n",
    "\n",
    "Checking for missing values:"
   ]
  },
  {
   "cell_type": "code",
   "execution_count": 81,
   "metadata": {},
   "outputs": [
    {
     "data": {
      "text/plain": [
       "(array([], dtype=int64), array([], dtype=int64))"
      ]
     },
     "execution_count": 81,
     "metadata": {},
     "output_type": "execute_result"
    }
   ],
   "source": [
    "np.where(np.isnan(train_samples_original))"
   ]
  },
  {
   "cell_type": "code",
   "execution_count": 82,
   "metadata": {},
   "outputs": [
    {
     "data": {
      "text/plain": [
       "(array([], dtype=int64),)"
      ]
     },
     "execution_count": 82,
     "metadata": {},
     "output_type": "execute_result"
    }
   ],
   "source": [
    "np.where(np.isnan(train_labels_original))"
   ]
  },
  {
   "cell_type": "code",
   "execution_count": 83,
   "metadata": {},
   "outputs": [
    {
     "data": {
      "text/plain": [
       "(array([], dtype=int64), array([], dtype=int64))"
      ]
     },
     "execution_count": 83,
     "metadata": {},
     "output_type": "execute_result"
    }
   ],
   "source": [
    "np.where(np.isnan(test_samples_original))"
   ]
  },
  {
   "cell_type": "markdown",
   "metadata": {},
   "source": [
    "No missing values, great!\n",
    "\n",
    "Now let's look at some of the images:"
   ]
  },
  {
   "cell_type": "code",
   "execution_count": 9,
   "metadata": {},
   "outputs": [
    {
     "data": {
      "image/png": "[encoded data removed]",
      "text/plain": [
       "<matplotlib.figure.Figure at 0x2bf139a04a8>"
      ]
     },
     "metadata": {},
     "output_type": "display_data"
    }
   ],
   "source": [
    "def display(img):\n",
    "    \n",
    "    # (784) => (28,28)\n",
    "    image = img.reshape(28, 28)\n",
    "    \n",
    "    plt.axis('off')\n",
    "    plt.imshow(image, cmap = \"afmhot\")\n",
    "\n",
    "fig = plt.figure(figsize=(16, 4))\n",
    "\n",
    "for i in range(64):\n",
    "    fig.add_subplot(4,16,i+1)\n",
    "    display(train_samples[i,:])  \n",
    "    \n"
   ]
  },
  {
   "cell_type": "markdown",
   "metadata": {},
   "source": [
    "Well, this is what i expected so that's good.\n",
    "\n",
    "Let's see if there are any imbalances in our dataset (e.g. one number appears more often than the other):"
   ]
  },
  {
   "cell_type": "code",
   "execution_count": 10,
   "metadata": {},
   "outputs": [
    {
     "data": {
      "text/plain": [
       "<Container object of 10 artists>"
      ]
     },
     "execution_count": 10,
     "metadata": {},
     "output_type": "execute_result"
    },
    {
     "data": {
      "image/png": "[encoded data removed]",
      "text/plain": [
       "<matplotlib.figure.Figure at 0x2bf139a0160>"
      ]
     },
     "metadata": {},
     "output_type": "display_data"
    }
   ],
   "source": [
    "plt.bar(np.arange(10), sum(train_labels), tick_label=np.arange(10), color = sns.color_palette(\"muted\", 10))"
   ]
  },
  {
   "cell_type": "markdown",
   "metadata": {},
   "source": [
    "Seems balanced enough to me. No need to add class weights to the loss function."
   ]
  },
  {
   "cell_type": "markdown",
   "metadata": {},
   "source": [
    "Now we create our CNN using keras.<br>\n",
    "Keras is a very high level language which makes it relatively easy to create a custom CNN."
   ]
  },
  {
   "cell_type": "code",
   "execution_count": null,
   "metadata": {
    "collapsed": true
   },
   "outputs": [],
   "source": [
    "from keras import backend as K\n",
    "from keras.models import Sequential\n",
    "from keras.layers import Activation\n",
    "from keras.layers.core import Dense, Dropout, Flatten\n",
    "from keras.optimizers import Adam\n",
    "from keras.metrics import categorical_crossentropy\n",
    "from keras.preprocessing.image import ImageDataGenerator\n",
    "from keras.layers.normalization import BatchNormalization\n",
    "from keras.layers.convolutional import *\n"
   ]
  },
  {
   "cell_type": "code",
   "execution_count": 151,
   "metadata": {
    "collapsed": true
   },
   "outputs": [],
   "source": [
    "model = Sequential()\n",
    "model.add(Conv2D(32, kernel_size=(3, 3), input_shape=(28, 28, 1), activation=\"relu\"))\n",
    "model.add(Conv2D(32, (3,3), activation=\"relu\"))\n",
    "model.add(MaxPooling2D(pool_size=(2,2)))\n",
    "model.add(Dropout(0.25))\n",
    "model.add(Conv2D(32, (3,3), activation=\"relu\"))\n",
    "model.add(Dropout(0.25))\n",
    "model.add(Conv2D(32, (3,3), activation=\"relu\"))\n",
    "model.add(Flatten())\n",
    "model.add(Dense(10, activation='softmax'))\n"
   ]
  },
  {
   "cell_type": "code",
   "execution_count": 152,
   "metadata": {
    "collapsed": true
   },
   "outputs": [],
   "source": [
    "model.compile(optimizer=keras.optimizers.Adadelta(), loss=\"categorical_crossentropy\", metrics=[\"accuracy\"])"
   ]
  },
  {
   "cell_type": "code",
   "execution_count": 156,
   "metadata": {
    "scrolled": false
   },
   "outputs": [
    {
     "name": "stdout",
     "output_type": "stream",
     "text": [
      "Epoch 1/15\n",
      " - 550s - loss: 0.1067 - acc: 0.9742\n",
      "Epoch 2/15\n",
      " - 550s - loss: 0.0811 - acc: 0.9805\n",
      "Epoch 3/15\n",
      " - 551s - loss: 0.0807 - acc: 0.9814\n",
      "Epoch 4/15\n",
      " - 552s - loss: 0.0879 - acc: 0.9816\n",
      "Epoch 5/15\n",
      " - 553s - loss: 0.0783 - acc: 0.9836\n",
      "Epoch 6/15\n",
      " - 555s - loss: 0.0735 - acc: 0.9862\n",
      "Epoch 7/15\n",
      " - 566s - loss: 0.0753 - acc: 0.9867\n",
      "Epoch 8/15\n",
      " - 552s - loss: 0.0691 - acc: 0.9876\n",
      "Epoch 9/15\n",
      " - 552s - loss: 0.0742 - acc: 0.9875\n",
      "Epoch 10/15\n",
      " - 553s - loss: 0.0728 - acc: 0.9877\n",
      "Epoch 11/15\n",
      " - 552s - loss: 0.0771 - acc: 0.9886\n",
      "Epoch 12/15\n",
      " - 552s - loss: 0.0767 - acc: 0.9890\n",
      "Epoch 13/15\n",
      " - 549s - loss: 0.0739 - acc: 0.9884\n",
      "Epoch 14/15\n",
      " - 548s - loss: 0.0775 - acc: 0.9897\n",
      "Epoch 15/15\n",
      " - 548s - loss: 0.0704 - acc: 0.9910\n"
     ]
    },
    {
     "data": {
      "text/plain": [
       "<keras.callbacks.History at 0x2bf56432f98>"
      ]
     },
     "execution_count": 156,
     "metadata": {},
     "output_type": "execute_result"
    }
   ],
   "source": [
    "model.fit(train_samples, \n",
    "          train_labels, \n",
    "          batch_size = 32, \n",
    "          validation_split = 0.0, \n",
    "          shuffle = True,\n",
    "          epochs = 15, \n",
    "          verbose=2)"
   ]
  },
  {
   "cell_type": "code",
   "execution_count": 157,
   "metadata": {
    "collapsed": true
   },
   "outputs": [],
   "source": [
    "testfit = model.predict(test_samples)"
   ]
  },
  {
   "cell_type": "code",
   "execution_count": 158,
   "metadata": {
    "collapsed": true
   },
   "outputs": [],
   "source": [
    "prediction = np.argmax(testfit, axis=1)\n",
    "c = np.arange(1, 28001)\n",
    "result = np.c_[c, prediction]\n",
    "np.savetxt(\"digit_recognizer_prediction_v1.csv\",\n",
    "          result,\n",
    "          delimiter=\",\",\n",
    "          header = \"ImageId,Label\",\n",
    "          comments=\"\",\n",
    "          fmt=\"%d\")\n"
   ]
  },
  {
   "cell_type": "markdown",
   "metadata": {},
   "source": [
    "With a training time of around 5 minutes on my laptop my test set accuracy ended up being 98.8%. Since my validation error is 98.9% it's reasonable to think that our dropout layers work and we are not overfitting with our model. This puts me in the top 30% of the kaggle competition. But there is still a lot of fine tuning possible.\n",
    "\n",
    "Let's look at the missclassified images in our validation data:"
   ]
  },
  {
   "cell_type": "code",
   "execution_count": 68,
   "metadata": {
    "scrolled": true
   },
   "outputs": [
    {
     "name": "stdout",
     "output_type": "stream",
     "text": [
      "8400/8400 [==============================] - ETA: 0s\n"
     ]
    }
   ],
   "source": [
    "val_split = int(42000-0.2*42000)\n",
    "validation_sample = train_samples[val_split:,:]\n",
    "validation_predictions = model.predict_classes(validation_sample).reshape((-1,))\n",
    "incorrects = np.nonzero(validation_predictions != train[\"label\"][val_split:])"
   ]
  },
  {
   "cell_type": "code",
   "execution_count": 69,
   "metadata": {},
   "outputs": [
    {
     "data": {
      "image/png": "[encoded data removed]",
      "text/plain": [
       "<matplotlib.figure.Figure at 0x2bf735301d0>"
      ]
     },
     "metadata": {},
     "output_type": "display_data"
    }
   ],
   "source": [
    "fig = plt.figure(figsize=(16, 4))\n",
    "for i in range(min(64,len(incorrects[0]))):\n",
    "    fig.add_subplot(4, 16, i+1)\n",
    "    display(train_samples[val_split + incorrects[0][i],])"
   ]
  },
  {
   "cell_type": "markdown",
   "metadata": {},
   "source": [
    "A lof of these numbers seem hard to classify, so that's fair. Finding patterns in the missclassified numbers could help us improve our model, so let's look at how often each digit in our validation set got missclassified:"
   ]
  },
  {
   "cell_type": "code",
   "execution_count": 133,
   "metadata": {},
   "outputs": [
    {
     "data": {
      "text/plain": [
       "Text(0.5,1,'Number of missclassifications by digit')"
      ]
     },
     "execution_count": 133,
     "metadata": {},
     "output_type": "execute_result"
    },
    {
     "data": {
      "image/png": "[encoded data removed]",
      "text/plain": [
       "<matplotlib.figure.Figure at 0x2bf726513c8>"
      ]
     },
     "metadata": {},
     "output_type": "display_data"
    }
   ],
   "source": [
    "incorrect_by_number = np.zeros(10)\n",
    "\n",
    "unique, counts = np.unique(train_labels_original[val_split:], return_counts=True)\n",
    "\n",
    "for i in range(len(incorrects[0])):\n",
    "    k = train[\"label\"][val_split + incorrects[0][i]]\n",
    "    incorrect_by_number[k] += 1\n",
    "\n",
    "fig = plt.figure(figsize=(16, 4))\n",
    "ax1 = fig.add_subplot(1, 2, 1)\n",
    "plt.bar(unique, counts, tick_label=np.arange(10),color = sns.color_palette(\"GnBu_d\"))\n",
    "ax1.set_title(\"Number of images by digit\")\n",
    "\n",
    "ax2 = fig.add_subplot(1, 2, 2)\n",
    "plt.bar(np.arange(0 ,10), incorrect_by_number, tick_label=np.arange(10),color = sns.color_palette(\"GnBu_d\"))\n",
    "ax2.set_title(\"Number of missclassifications by digit\")"
   ]
  },
  {
   "cell_type": "markdown",
   "metadata": {},
   "source": [
    "Let's make a simple Chi-Squared-Test to decide whether or not the distribution of missclassifications is to be expected:"
   ]
  },
  {
   "cell_type": "code",
   "execution_count": 136,
   "metadata": {},
   "outputs": [
    {
     "data": {
      "text/plain": [
       "Power_divergenceResult(statistic=35.106716338212664, pvalue=5.7055209153437247e-05)"
      ]
     },
     "execution_count": 136,
     "metadata": {},
     "output_type": "execute_result"
    }
   ],
   "source": [
    "from scipy.stats import chisquare\n",
    "\n",
    "error_rate = len(incorrects[0])/(len(train_labels)-val_split)\n",
    "expected_value_by_class = counts*error_rate\n",
    "chisquare(incorrect_by_number, expected_value_by_class)"
   ]
  },
  {
   "cell_type": "markdown",
   "metadata": {},
   "source": [
    "The p-value of our test statistic is very close to zero so it seems likely that our model has a hard time predicting eights and zeros and that is not just due to chance. \n",
    "\n",
    "If we remember our intuition behind CNNs that with every layer a CNN tends to pick up more and more complex structures of an images and that numbers like 2 and 8 have the same \"basic\" features (rounded edges and so on) but differ in the more complex arrangements of their features, then it makes me think that we need more layers instead of more filters.\n",
    "\n",
    "In the end training our model longer will be much more important than the distinctions between filters and layers but it's still worth keeping in mind.\n",
    "\n",
    "Every picture consists of 28*28 = 784 parameters. Compared to other image data sets that's not much but still enough that a dimensionality reduction technique like PCA is worth trying.\n",
    "\n",
    "[Here](https://stats.stackexchange.com/questions/2691/making-sense-of-principal-component-analysis-eigenvectors-eigenvalues/140579#140579) is a great explanation by amoeba as to how PCA works.\n",
    "\n",
    "Let's start with..\n",
    "\n",
    "### Calculating the Eigenvectors of the Covariance matrix"
   ]
  },
  {
   "cell_type": "code",
   "execution_count": 79,
   "metadata": {
    "collapsed": true
   },
   "outputs": [],
   "source": [
    "# Standardize the data\n",
    "from sklearn.preprocessing import StandardScaler\n",
    "train_samples_original = train_samples_original.astype(\"float64\")\n",
    "train_std = StandardScaler().fit_transform(train_samples_original)\n",
    "\n",
    "# Calculating Eigenvectors and eigenvalues of Covariance matrix\n",
    "mean = np.mean(train_std, axis=0)\n",
    "covariance_matrix = np.cov(train_std.T)\n",
    "eigenvalues, eigenvectors = np.linalg.eig(covariance_matrix)\n",
    "eigenpairs = [(np.abs(eigenvalues[i]),eigenvectors[:,i]) for i in range(len(eigenvalues))]\n",
    "\n",
    "eigenpairs.sort(key = lambda x: x[0], reverse= True)\n",
    "\n",
    "# Calculating the explanied variance of each eigenvector\n",
    "sum_of_eigenvalues = sum(eigenvalues)\n",
    "explained_variance = [i/sum_of_eigenvalues for i in sorted(eigenvalues, reverse = True)]\n",
    "cumulative_explained_variance = np.cumsum(explained_variance)"
   ]
  },
  {
   "cell_type": "markdown",
   "metadata": {},
   "source": [
    "Now we take a look at the distribution of the explained variance of our data:"
   ]
  },
  {
   "cell_type": "code",
   "execution_count": 22,
   "metadata": {},
   "outputs": [
    {
     "data": {
      "text/plain": [
       "Text(319,0.88,'0.95 Quantil')"
      ]
     },
     "execution_count": 22,
     "metadata": {},
     "output_type": "execute_result"
    },
    {
     "data": {
      "image/png": "[encoded data removed]",
      "text/plain": [
       "<matplotlib.figure.Figure at 0x2bf13383978>"
      ]
     },
     "metadata": {},
     "output_type": "display_data"
    }
   ],
   "source": [
    "markers_on = [np.min(np.where(cumulative_explained_variance > 0.80)), np.min(np.where(cumulative_explained_variance > 0.90)), \n",
    "              np.min(np.where(cumulative_explained_variance > 0.95))]\n",
    "\n",
    "fig = plt.figure()\n",
    "ax = fig.add_subplot(111)\n",
    "\n",
    "plt.plot(cumulative_explained_variance, marker = \"o\", markevery=markers_on)\n",
    "\n",
    "ax.grid()  \n",
    "ax.annotate(\"0.8 Quantil\", xy=(np.min(np.where(cumulative_explained_variance > 0.80)), 0.72))\n",
    "ax.annotate(\"0.9 Quantil\", xy=(np.min(np.where(cumulative_explained_variance > 0.90)), 0.82))\n",
    "ax.annotate(\"0.95 Quantil\", xy=(np.min(np.where(cumulative_explained_variance > 0.95)), 0.88))"
   ]
  },
  {
   "cell_type": "markdown",
   "metadata": {},
   "source": [
    "225 variables is enough to account for roughly 90% of the explained variance of our model! Using PCA to reduce our model to the most influencial 225 variables seems like a good choice."
   ]
  },
  {
   "cell_type": "code",
   "execution_count": 23,
   "metadata": {
    "collapsed": true
   },
   "outputs": [],
   "source": [
    "from sklearn.decomposition import PCA as sklearnPCA\n",
    "\n",
    "pca = sklearnPCA(n_components=225)\n",
    "train_225dim = pca.fit_transform(train_std)"
   ]
  },
  {
   "cell_type": "code",
   "execution_count": 24,
   "metadata": {
    "collapsed": true
   },
   "outputs": [],
   "source": [
    "train_225dim_reshaped = train_225dim.reshape(train_225dim.shape[0], 15, 15, 1)"
   ]
  },
  {
   "cell_type": "code",
   "execution_count": 54,
   "metadata": {
    "collapsed": true
   },
   "outputs": [],
   "source": [
    "model2 = Sequential()\n",
    "model2.add(Conv2D(32, kernel_size=(3, 3), input_shape=(15, 15, 1), activation=\"relu\"))\n",
    "model2.add(Conv2D(32, (3,3), activation=\"relu\"))\n",
    "model2.add(MaxPooling2D(pool_size=(2,2)))\n",
    "model2.add(Dropout(0.25))\n",
    "model2.add(Conv2D(64, (3,3), activation=\"relu\"))\n",
    "model2.add(Dropout(0.25))\n",
    "model2.add(Conv2D(64, (3,3), activation=\"relu\"))\n",
    "model2.add(Flatten())\n",
    "#model2.add(Dense(32, activation='relu'))\n",
    "model2.add(Dense(10, activation='softmax'))\n"
   ]
  },
  {
   "cell_type": "code",
   "execution_count": 55,
   "metadata": {
    "collapsed": true
   },
   "outputs": [],
   "source": [
    "model2.compile(optimizer=keras.optimizers.Adam(), loss=\"categorical_crossentropy\", metrics=[\"accuracy\"])"
   ]
  },
  {
   "cell_type": "code",
   "execution_count": 56,
   "metadata": {
    "scrolled": true
   },
   "outputs": [
    {
     "name": "stdout",
     "output_type": "stream",
     "text": [
      "Train on 33600 samples, validate on 8400 samples\n",
      "Epoch 1/20\n",
      " - 18s - loss: 0.8980 - acc: 0.7156 - val_loss: 0.3765 - val_acc: 0.8881\n",
      "Epoch 2/20\n",
      " - 19s - loss: 0.4645 - acc: 0.8575 - val_loss: 0.2885 - val_acc: 0.9155\n",
      "Epoch 3/20\n",
      " - 17s - loss: 0.3856 - acc: 0.8781 - val_loss: 0.2750 - val_acc: 0.9200\n",
      "Epoch 4/20\n",
      " - 18s - loss: 0.3428 - acc: 0.8918 - val_loss: 0.2444 - val_acc: 0.9260\n",
      "Epoch 5/20\n",
      " - 17s - loss: 0.3232 - acc: 0.8987 - val_loss: 0.2336 - val_acc: 0.9277\n",
      "Epoch 6/20\n",
      " - 18s - loss: 0.3011 - acc: 0.9046 - val_loss: 0.2315 - val_acc: 0.9307\n",
      "Epoch 7/20\n",
      " - 18s - loss: 0.2890 - acc: 0.9079 - val_loss: 0.2091 - val_acc: 0.9386\n",
      "Epoch 8/20\n",
      " - 20s - loss: 0.2768 - acc: 0.9124 - val_loss: 0.2031 - val_acc: 0.9376\n",
      "Epoch 9/20\n",
      " - 18s - loss: 0.2673 - acc: 0.9143 - val_loss: 0.1977 - val_acc: 0.9411\n",
      "Epoch 10/20\n",
      " - 18s - loss: 0.2563 - acc: 0.9172 - val_loss: 0.2010 - val_acc: 0.9396\n",
      "Epoch 11/20\n",
      " - 19s - loss: 0.2468 - acc: 0.9223 - val_loss: 0.1980 - val_acc: 0.9419\n",
      "Epoch 12/20\n",
      " - 20s - loss: 0.2327 - acc: 0.9268 - val_loss: 0.1849 - val_acc: 0.9458\n",
      "Epoch 13/20\n",
      " - 17s - loss: 0.2380 - acc: 0.9229 - val_loss: 0.1858 - val_acc: 0.9450\n",
      "Epoch 14/20\n",
      " - 20s - loss: 0.2243 - acc: 0.9266 - val_loss: 0.1814 - val_acc: 0.9451\n",
      "Epoch 15/20\n",
      " - 20s - loss: 0.2180 - acc: 0.9279 - val_loss: 0.1813 - val_acc: 0.9461\n",
      "Epoch 16/20\n",
      " - 17s - loss: 0.2202 - acc: 0.9272 - val_loss: 0.1910 - val_acc: 0.9448\n",
      "Epoch 17/20\n",
      " - 18s - loss: 0.2188 - acc: 0.9299 - val_loss: 0.1836 - val_acc: 0.9444\n",
      "Epoch 18/20\n",
      " - 20s - loss: 0.2083 - acc: 0.9317 - val_loss: 0.1849 - val_acc: 0.9471\n",
      "Epoch 19/20\n",
      " - 19s - loss: 0.2021 - acc: 0.9341 - val_loss: 0.1880 - val_acc: 0.9440\n",
      "Epoch 20/20\n",
      " - 18s - loss: 0.1935 - acc: 0.9365 - val_loss: 0.1847 - val_acc: 0.9460\n"
     ]
    },
    {
     "data": {
      "text/plain": [
       "<keras.callbacks.History at 0x2bf710e3940>"
      ]
     },
     "execution_count": 56,
     "metadata": {},
     "output_type": "execute_result"
    }
   ],
   "source": [
    "model2.fit(train_225dim_reshaped, \n",
    "          train_labels, \n",
    "          batch_size = 30, \n",
    "          validation_split = 0.2, \n",
    "          shuffle = True,\n",
    "          epochs = 20,\n",
    "          verbose = 2)"
   ]
  },
  {
   "cell_type": "markdown",
   "metadata": {},
   "source": [
    "As we can see an epoch takes only a 10th of the time it did without PCA. However, our accuracy and especially our learning rate suffers as well and in the end this model does not ouperform our vanilla CNN from earlier.\n",
    "\n",
    "If it turns out that our model has a good accuracy at the missclassified images from our first model maybe we can still recycle it by construct a committee of conv nets as our new classifier:"
   ]
  },
  {
   "cell_type": "code",
   "execution_count": 61,
   "metadata": {},
   "outputs": [
    {
     "name": "stdout",
     "output_type": "stream",
     "text": [
      "8400/8400 [==============================] - ETA: 0s\n"
     ]
    }
   ],
   "source": [
    "validation_sample = train_225dim_reshaped[val_split:,:]\n",
    "validation_predictions2 = model2.predict_classes(validation_sample).reshape((-1,))\n",
    "incorrects2 = np.nonzero(validation_predictions2 != train[\"label\"][val_split:])"
   ]
  },
  {
   "cell_type": "markdown",
   "metadata": {},
   "source": [
    "Now how did our second model do with the images our first model missclassified?"
   ]
  },
  {
   "cell_type": "code",
   "execution_count": 76,
   "metadata": {},
   "outputs": [
    {
     "data": {
      "text/plain": [
       "0.6717557251908397"
      ]
     },
     "execution_count": 76,
     "metadata": {},
     "output_type": "execute_result"
    }
   ],
   "source": [
    "len(set(incorrects[0]).intersection(incorrects2[0]))/len(incorrects[0])"
   ]
  },
  {
   "cell_type": "markdown",
   "metadata": {},
   "source": [
    "Unfortunately it turns out our second model missclassified 67% of the images in our validation set that our first model missclassified. \n",
    "\n",
    "In the end it seems to be more effective to just use our original model and either use more epochs or a more complex neural net than using PCA to reduce dimensionality."
   ]
  },
  {
   "cell_type": "raw",
   "metadata": {},
   "source": [
    "<script>\n",
    "  function code_toggle() {\n",
    "    if (code_shown){\n",
    "      $('div.input').hide('500');\n",
    "      $('#toggleButton').val('Show Code')\n",
    "    } else {\n",
    "      $('div.input').show('500');\n",
    "      $('#toggleButton').val('Hide Code')\n",
    "    }\n",
    "    code_shown = !code_shown\n",
    "  }\n",
    "\n",
    "  $( document ).ready(function(){\n",
    "    code_shown=false;\n",
    "    $('div.input').hide()\n",
    "  });\n",
    "</script>\n",
    "<form action=\"javascript:code_toggle()\"><input type=\"submit\" id=\"toggleButton\" value=\"Show Code\"></form>"
   ]
  }
 ],
 "metadata": {
  "kernelspec": {
   "display_name": "Python 3",
   "language": "python",
   "name": "python3"
  },
  "language_info": {
   "codemirror_mode": {
    "name": "ipython",
    "version": 3
   },
   "file_extension": ".py",
   "mimetype": "text/x-python",
   "name": "python",
   "nbconvert_exporter": "python",
   "pygments_lexer": "ipython3",
   "version": "3.6.3"
  }
 },
 "nbformat": 4,
 "nbformat_minor": 2
}
